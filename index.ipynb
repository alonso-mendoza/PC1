{
 "cells": [
  {
   "cell_type": "markdown",
   "metadata": {
    "id": "O2f27oVNj3iM"
   },
   "source": [
    "## Read the data\n",
    "\n",
    "This code will give you the data you will use for this PC:"
   ]
  },
  {
   "cell_type": "code",
   "execution_count": 28,
   "metadata": {
    "id": "u6xLc_dHIJGu"
   },
   "outputs": [],
   "source": [
    "# read web table into pandas DF\n",
    "import pandas as pd\n",
    "\n",
    "co2Link='https://docs.google.com/spreadsheets/d/e/2PACX-1vRXjfxeKHQBBCh_oHP-D6RIHEX4eduLjydHb6ZGsU4jo0IK0KKQSoYX_X1FGssC_9hnqCgjKN0K4AVf/pub?gid=775098192&single=true&output=csv'\n",
    "carbon=pd.read_csv(co2Link)\n"
   ]
  },
  {
   "cell_type": "code",
   "execution_count": 29,
   "metadata": {
    "colab": {
     "base_uri": "https://localhost:8080/",
     "height": 423
    },
    "id": "dAmQQMGvj3iN",
    "outputId": "43abff41-10fc-4bae-e298-30dd077336bc"
   },
   "outputs": [
    {
     "data": {
      "application/vnd.google.colaboratory.intrinsic+json": {
       "summary": "{\n  \"name\": \"carbon\",\n  \"rows\": 216,\n  \"fields\": [\n    {\n      \"column\": \"name\",\n      \"properties\": {\n        \"dtype\": \"string\",\n        \"num_unique_values\": 216,\n        \"samples\": [\n          \"Saint Vincent and the Grenadines\",\n          \"Antarctica\",\n          \"Estonia\"\n        ],\n        \"semantic_type\": \"\",\n        \"description\": \"\"\n      }\n    },\n    {\n      \"column\": \"metric tonnes of CO2\",\n      \"properties\": {\n        \"dtype\": \"number\",\n        \"std\": 922439799.6028336,\n        \"min\": 9.0,\n        \"max\": 12196000000.0,\n        \"num_unique_values\": 213,\n        \"samples\": [\n          600192000.0,\n          269.0,\n          35486000.0\n        ],\n        \"semantic_type\": \"\",\n        \"description\": \"\"\n      }\n    },\n    {\n      \"column\": \"date_of_information\",\n      \"properties\": {\n        \"dtype\": \"number\",\n        \"std\": 0,\n        \"min\": 2017,\n        \"max\": 2023,\n        \"num_unique_values\": 2,\n        \"samples\": [\n          2017,\n          2023\n        ],\n        \"semantic_type\": \"\",\n        \"description\": \"\"\n      }\n    },\n    {\n      \"column\": \"ranking\",\n      \"properties\": {\n        \"dtype\": \"number\",\n        \"std\": 62,\n        \"min\": 1,\n        \"max\": 216,\n        \"num_unique_values\": 216,\n        \"samples\": [\n          202,\n          214\n        ],\n        \"semantic_type\": \"\",\n        \"description\": \"\"\n      }\n    },\n    {\n      \"column\": \"region\",\n      \"properties\": {\n        \"dtype\": \"category\",\n        \"num_unique_values\": 11,\n        \"samples\": [\n          \"Europe\",\n          \"East and Southeast Asia\"\n        ],\n        \"semantic_type\": \"\",\n        \"description\": \"\"\n      }\n    }\n  ]\n}",
       "type": "dataframe",
       "variable_name": "carbon"
      },
      "text/html": [
       "\n",
       "  <div id=\"df-7ac2da53-8377-40c4-83d0-3e5a2724699d\" class=\"colab-df-container\">\n",
       "    <div>\n",
       "<style scoped>\n",
       "    .dataframe tbody tr th:only-of-type {\n",
       "        vertical-align: middle;\n",
       "    }\n",
       "\n",
       "    .dataframe tbody tr th {\n",
       "        vertical-align: top;\n",
       "    }\n",
       "\n",
       "    .dataframe thead th {\n",
       "        text-align: right;\n",
       "    }\n",
       "</style>\n",
       "<table border=\"1\" class=\"dataframe\">\n",
       "  <thead>\n",
       "    <tr style=\"text-align: right;\">\n",
       "      <th></th>\n",
       "      <th>name</th>\n",
       "      <th>metric tonnes of CO2</th>\n",
       "      <th>date_of_information</th>\n",
       "      <th>ranking</th>\n",
       "      <th>region</th>\n",
       "    </tr>\n",
       "  </thead>\n",
       "  <tbody>\n",
       "    <tr>\n",
       "      <th>0</th>\n",
       "      <td>China</td>\n",
       "      <td>1.219600e+10</td>\n",
       "      <td>2023</td>\n",
       "      <td>1</td>\n",
       "      <td>East and Southeast Asia</td>\n",
       "    </tr>\n",
       "    <tr>\n",
       "      <th>1</th>\n",
       "      <td>United States</td>\n",
       "      <td>4.795000e+09</td>\n",
       "      <td>2023</td>\n",
       "      <td>2</td>\n",
       "      <td>North America</td>\n",
       "    </tr>\n",
       "    <tr>\n",
       "      <th>2</th>\n",
       "      <td>India</td>\n",
       "      <td>2.821000e+09</td>\n",
       "      <td>2023</td>\n",
       "      <td>3</td>\n",
       "      <td>South Asia</td>\n",
       "    </tr>\n",
       "    <tr>\n",
       "      <th>3</th>\n",
       "      <td>Russia</td>\n",
       "      <td>1.844000e+09</td>\n",
       "      <td>2023</td>\n",
       "      <td>4</td>\n",
       "      <td>Central Asia</td>\n",
       "    </tr>\n",
       "    <tr>\n",
       "      <th>4</th>\n",
       "      <td>Japan</td>\n",
       "      <td>9.602300e+08</td>\n",
       "      <td>2023</td>\n",
       "      <td>5</td>\n",
       "      <td>East and Southeast Asia</td>\n",
       "    </tr>\n",
       "    <tr>\n",
       "      <th>...</th>\n",
       "      <td>...</td>\n",
       "      <td>...</td>\n",
       "      <td>...</td>\n",
       "      <td>...</td>\n",
       "      <td>...</td>\n",
       "    </tr>\n",
       "    <tr>\n",
       "      <th>211</th>\n",
       "      <td>Falkland Islands (Islas Malvinas)</td>\n",
       "      <td>3.600000e+01</td>\n",
       "      <td>2023</td>\n",
       "      <td>212</td>\n",
       "      <td>South America</td>\n",
       "    </tr>\n",
       "    <tr>\n",
       "      <th>212</th>\n",
       "      <td>Montserrat</td>\n",
       "      <td>2.400000e+01</td>\n",
       "      <td>2023</td>\n",
       "      <td>213</td>\n",
       "      <td>Central America and the Caribbean</td>\n",
       "    </tr>\n",
       "    <tr>\n",
       "      <th>213</th>\n",
       "      <td>Antarctica</td>\n",
       "      <td>1.500000e+01</td>\n",
       "      <td>2023</td>\n",
       "      <td>214</td>\n",
       "      <td>Antarctica</td>\n",
       "    </tr>\n",
       "    <tr>\n",
       "      <th>214</th>\n",
       "      <td>Saint Helena, Ascension, and Tristan da Cunha</td>\n",
       "      <td>1.200000e+01</td>\n",
       "      <td>2023</td>\n",
       "      <td>215</td>\n",
       "      <td>Africa</td>\n",
       "    </tr>\n",
       "    <tr>\n",
       "      <th>215</th>\n",
       "      <td>Niue</td>\n",
       "      <td>9.000000e+00</td>\n",
       "      <td>2023</td>\n",
       "      <td>216</td>\n",
       "      <td>Australia and Oceania</td>\n",
       "    </tr>\n",
       "  </tbody>\n",
       "</table>\n",
       "<p>216 rows × 5 columns</p>\n",
       "</div>\n",
       "    <div class=\"colab-df-buttons\">\n",
       "\n",
       "  <div class=\"colab-df-container\">\n",
       "    <button class=\"colab-df-convert\" onclick=\"convertToInteractive('df-7ac2da53-8377-40c4-83d0-3e5a2724699d')\"\n",
       "            title=\"Convert this dataframe to an interactive table.\"\n",
       "            style=\"display:none;\">\n",
       "\n",
       "  <svg xmlns=\"http://www.w3.org/2000/svg\" height=\"24px\" viewBox=\"0 -960 960 960\">\n",
       "    <path d=\"M120-120v-720h720v720H120Zm60-500h600v-160H180v160Zm220 220h160v-160H400v160Zm0 220h160v-160H400v160ZM180-400h160v-160H180v160Zm440 0h160v-160H620v160ZM180-180h160v-160H180v160Zm440 0h160v-160H620v160Z\"/>\n",
       "  </svg>\n",
       "    </button>\n",
       "\n",
       "  <style>\n",
       "    .colab-df-container {\n",
       "      display:flex;\n",
       "      gap: 12px;\n",
       "    }\n",
       "\n",
       "    .colab-df-convert {\n",
       "      background-color: #E8F0FE;\n",
       "      border: none;\n",
       "      border-radius: 50%;\n",
       "      cursor: pointer;\n",
       "      display: none;\n",
       "      fill: #1967D2;\n",
       "      height: 32px;\n",
       "      padding: 0 0 0 0;\n",
       "      width: 32px;\n",
       "    }\n",
       "\n",
       "    .colab-df-convert:hover {\n",
       "      background-color: #E2EBFA;\n",
       "      box-shadow: 0px 1px 2px rgba(60, 64, 67, 0.3), 0px 1px 3px 1px rgba(60, 64, 67, 0.15);\n",
       "      fill: #174EA6;\n",
       "    }\n",
       "\n",
       "    .colab-df-buttons div {\n",
       "      margin-bottom: 4px;\n",
       "    }\n",
       "\n",
       "    [theme=dark] .colab-df-convert {\n",
       "      background-color: #3B4455;\n",
       "      fill: #D2E3FC;\n",
       "    }\n",
       "\n",
       "    [theme=dark] .colab-df-convert:hover {\n",
       "      background-color: #434B5C;\n",
       "      box-shadow: 0px 1px 3px 1px rgba(0, 0, 0, 0.15);\n",
       "      filter: drop-shadow(0px 1px 2px rgba(0, 0, 0, 0.3));\n",
       "      fill: #FFFFFF;\n",
       "    }\n",
       "  </style>\n",
       "\n",
       "    <script>\n",
       "      const buttonEl =\n",
       "        document.querySelector('#df-7ac2da53-8377-40c4-83d0-3e5a2724699d button.colab-df-convert');\n",
       "      buttonEl.style.display =\n",
       "        google.colab.kernel.accessAllowed ? 'block' : 'none';\n",
       "\n",
       "      async function convertToInteractive(key) {\n",
       "        const element = document.querySelector('#df-7ac2da53-8377-40c4-83d0-3e5a2724699d');\n",
       "        const dataTable =\n",
       "          await google.colab.kernel.invokeFunction('convertToInteractive',\n",
       "                                                    [key], {});\n",
       "        if (!dataTable) return;\n",
       "\n",
       "        const docLinkHtml = 'Like what you see? Visit the ' +\n",
       "          '<a target=\"_blank\" href=https://colab.research.google.com/notebooks/data_table.ipynb>data table notebook</a>'\n",
       "          + ' to learn more about interactive tables.';\n",
       "        element.innerHTML = '';\n",
       "        dataTable['output_type'] = 'display_data';\n",
       "        await google.colab.output.renderOutput(dataTable, element);\n",
       "        const docLink = document.createElement('div');\n",
       "        docLink.innerHTML = docLinkHtml;\n",
       "        element.appendChild(docLink);\n",
       "      }\n",
       "    </script>\n",
       "  </div>\n",
       "\n",
       "\n",
       "<div id=\"df-ded70b15-baec-479b-9ed1-50b2d2321962\">\n",
       "  <button class=\"colab-df-quickchart\" onclick=\"quickchart('df-ded70b15-baec-479b-9ed1-50b2d2321962')\"\n",
       "            title=\"Suggest charts\"\n",
       "            style=\"display:none;\">\n",
       "\n",
       "<svg xmlns=\"http://www.w3.org/2000/svg\" height=\"24px\"viewBox=\"0 0 24 24\"\n",
       "     width=\"24px\">\n",
       "    <g>\n",
       "        <path d=\"M19 3H5c-1.1 0-2 .9-2 2v14c0 1.1.9 2 2 2h14c1.1 0 2-.9 2-2V5c0-1.1-.9-2-2-2zM9 17H7v-7h2v7zm4 0h-2V7h2v10zm4 0h-2v-4h2v4z\"/>\n",
       "    </g>\n",
       "</svg>\n",
       "  </button>\n",
       "\n",
       "<style>\n",
       "  .colab-df-quickchart {\n",
       "      --bg-color: #E8F0FE;\n",
       "      --fill-color: #1967D2;\n",
       "      --hover-bg-color: #E2EBFA;\n",
       "      --hover-fill-color: #174EA6;\n",
       "      --disabled-fill-color: #AAA;\n",
       "      --disabled-bg-color: #DDD;\n",
       "  }\n",
       "\n",
       "  [theme=dark] .colab-df-quickchart {\n",
       "      --bg-color: #3B4455;\n",
       "      --fill-color: #D2E3FC;\n",
       "      --hover-bg-color: #434B5C;\n",
       "      --hover-fill-color: #FFFFFF;\n",
       "      --disabled-bg-color: #3B4455;\n",
       "      --disabled-fill-color: #666;\n",
       "  }\n",
       "\n",
       "  .colab-df-quickchart {\n",
       "    background-color: var(--bg-color);\n",
       "    border: none;\n",
       "    border-radius: 50%;\n",
       "    cursor: pointer;\n",
       "    display: none;\n",
       "    fill: var(--fill-color);\n",
       "    height: 32px;\n",
       "    padding: 0;\n",
       "    width: 32px;\n",
       "  }\n",
       "\n",
       "  .colab-df-quickchart:hover {\n",
       "    background-color: var(--hover-bg-color);\n",
       "    box-shadow: 0 1px 2px rgba(60, 64, 67, 0.3), 0 1px 3px 1px rgba(60, 64, 67, 0.15);\n",
       "    fill: var(--button-hover-fill-color);\n",
       "  }\n",
       "\n",
       "  .colab-df-quickchart-complete:disabled,\n",
       "  .colab-df-quickchart-complete:disabled:hover {\n",
       "    background-color: var(--disabled-bg-color);\n",
       "    fill: var(--disabled-fill-color);\n",
       "    box-shadow: none;\n",
       "  }\n",
       "\n",
       "  .colab-df-spinner {\n",
       "    border: 2px solid var(--fill-color);\n",
       "    border-color: transparent;\n",
       "    border-bottom-color: var(--fill-color);\n",
       "    animation:\n",
       "      spin 1s steps(1) infinite;\n",
       "  }\n",
       "\n",
       "  @keyframes spin {\n",
       "    0% {\n",
       "      border-color: transparent;\n",
       "      border-bottom-color: var(--fill-color);\n",
       "      border-left-color: var(--fill-color);\n",
       "    }\n",
       "    20% {\n",
       "      border-color: transparent;\n",
       "      border-left-color: var(--fill-color);\n",
       "      border-top-color: var(--fill-color);\n",
       "    }\n",
       "    30% {\n",
       "      border-color: transparent;\n",
       "      border-left-color: var(--fill-color);\n",
       "      border-top-color: var(--fill-color);\n",
       "      border-right-color: var(--fill-color);\n",
       "    }\n",
       "    40% {\n",
       "      border-color: transparent;\n",
       "      border-right-color: var(--fill-color);\n",
       "      border-top-color: var(--fill-color);\n",
       "    }\n",
       "    60% {\n",
       "      border-color: transparent;\n",
       "      border-right-color: var(--fill-color);\n",
       "    }\n",
       "    80% {\n",
       "      border-color: transparent;\n",
       "      border-right-color: var(--fill-color);\n",
       "      border-bottom-color: var(--fill-color);\n",
       "    }\n",
       "    90% {\n",
       "      border-color: transparent;\n",
       "      border-bottom-color: var(--fill-color);\n",
       "    }\n",
       "  }\n",
       "</style>\n",
       "\n",
       "  <script>\n",
       "    async function quickchart(key) {\n",
       "      const quickchartButtonEl =\n",
       "        document.querySelector('#' + key + ' button');\n",
       "      quickchartButtonEl.disabled = true;  // To prevent multiple clicks.\n",
       "      quickchartButtonEl.classList.add('colab-df-spinner');\n",
       "      try {\n",
       "        const charts = await google.colab.kernel.invokeFunction(\n",
       "            'suggestCharts', [key], {});\n",
       "      } catch (error) {\n",
       "        console.error('Error during call to suggestCharts:', error);\n",
       "      }\n",
       "      quickchartButtonEl.classList.remove('colab-df-spinner');\n",
       "      quickchartButtonEl.classList.add('colab-df-quickchart-complete');\n",
       "    }\n",
       "    (() => {\n",
       "      let quickchartButtonEl =\n",
       "        document.querySelector('#df-ded70b15-baec-479b-9ed1-50b2d2321962 button');\n",
       "      quickchartButtonEl.style.display =\n",
       "        google.colab.kernel.accessAllowed ? 'block' : 'none';\n",
       "    })();\n",
       "  </script>\n",
       "</div>\n",
       "\n",
       "  <div id=\"id_c320105f-f345-4dd5-a7b3-921b0afd573f\">\n",
       "    <style>\n",
       "      .colab-df-generate {\n",
       "        background-color: #E8F0FE;\n",
       "        border: none;\n",
       "        border-radius: 50%;\n",
       "        cursor: pointer;\n",
       "        display: none;\n",
       "        fill: #1967D2;\n",
       "        height: 32px;\n",
       "        padding: 0 0 0 0;\n",
       "        width: 32px;\n",
       "      }\n",
       "\n",
       "      .colab-df-generate:hover {\n",
       "        background-color: #E2EBFA;\n",
       "        box-shadow: 0px 1px 2px rgba(60, 64, 67, 0.3), 0px 1px 3px 1px rgba(60, 64, 67, 0.15);\n",
       "        fill: #174EA6;\n",
       "      }\n",
       "\n",
       "      [theme=dark] .colab-df-generate {\n",
       "        background-color: #3B4455;\n",
       "        fill: #D2E3FC;\n",
       "      }\n",
       "\n",
       "      [theme=dark] .colab-df-generate:hover {\n",
       "        background-color: #434B5C;\n",
       "        box-shadow: 0px 1px 3px 1px rgba(0, 0, 0, 0.15);\n",
       "        filter: drop-shadow(0px 1px 2px rgba(0, 0, 0, 0.3));\n",
       "        fill: #FFFFFF;\n",
       "      }\n",
       "    </style>\n",
       "    <button class=\"colab-df-generate\" onclick=\"generateWithVariable('carbon')\"\n",
       "            title=\"Generate code using this dataframe.\"\n",
       "            style=\"display:none;\">\n",
       "\n",
       "  <svg xmlns=\"http://www.w3.org/2000/svg\" height=\"24px\"viewBox=\"0 0 24 24\"\n",
       "       width=\"24px\">\n",
       "    <path d=\"M7,19H8.4L18.45,9,17,7.55,7,17.6ZM5,21V16.75L18.45,3.32a2,2,0,0,1,2.83,0l1.4,1.43a1.91,1.91,0,0,1,.58,1.4,1.91,1.91,0,0,1-.58,1.4L9.25,21ZM18.45,9,17,7.55Zm-12,3A5.31,5.31,0,0,0,4.9,8.1,5.31,5.31,0,0,0,1,6.5,5.31,5.31,0,0,0,4.9,4.9,5.31,5.31,0,0,0,6.5,1,5.31,5.31,0,0,0,8.1,4.9,5.31,5.31,0,0,0,12,6.5,5.46,5.46,0,0,0,6.5,12Z\"/>\n",
       "  </svg>\n",
       "    </button>\n",
       "    <script>\n",
       "      (() => {\n",
       "      const buttonEl =\n",
       "        document.querySelector('#id_c320105f-f345-4dd5-a7b3-921b0afd573f button.colab-df-generate');\n",
       "      buttonEl.style.display =\n",
       "        google.colab.kernel.accessAllowed ? 'block' : 'none';\n",
       "\n",
       "      buttonEl.onclick = () => {\n",
       "        google.colab.notebook.generateWithVariable('carbon');\n",
       "      }\n",
       "      })();\n",
       "    </script>\n",
       "  </div>\n",
       "\n",
       "    </div>\n",
       "  </div>\n"
      ],
      "text/plain": [
       "                                              name  metric tonnes of CO2  \\\n",
       "0                                            China          1.219600e+10   \n",
       "1                                    United States          4.795000e+09   \n",
       "2                                            India          2.821000e+09   \n",
       "3                                           Russia          1.844000e+09   \n",
       "4                                            Japan          9.602300e+08   \n",
       "..                                             ...                   ...   \n",
       "211              Falkland Islands (Islas Malvinas)          3.600000e+01   \n",
       "212                                     Montserrat          2.400000e+01   \n",
       "213                                     Antarctica          1.500000e+01   \n",
       "214  Saint Helena, Ascension, and Tristan da Cunha          1.200000e+01   \n",
       "215                                           Niue          9.000000e+00   \n",
       "\n",
       "     date_of_information  ranking                             region  \n",
       "0                   2023        1            East and Southeast Asia  \n",
       "1                   2023        2                      North America  \n",
       "2                   2023        3                         South Asia  \n",
       "3                   2023        4                       Central Asia  \n",
       "4                   2023        5            East and Southeast Asia  \n",
       "..                   ...      ...                                ...  \n",
       "211                 2023      212                      South America  \n",
       "212                 2023      213  Central America and the Caribbean  \n",
       "213                 2023      214                         Antarctica  \n",
       "214                 2023      215                             Africa  \n",
       "215                 2023      216              Australia and Oceania  \n",
       "\n",
       "[216 rows x 5 columns]"
      ]
     },
     "execution_count": 29,
     "metadata": {},
     "output_type": "execute_result"
    }
   ],
   "source": [
    "# here it is:\n",
    "carbon"
   ]
  },
  {
   "cell_type": "markdown",
   "metadata": {
    "id": "v6HBjYfNrsLS"
   },
   "source": [
    "As you see, some columns have space, which should be deleted:"
   ]
  },
  {
   "cell_type": "code",
   "execution_count": 30,
   "metadata": {
    "colab": {
     "base_uri": "https://localhost:8080/"
    },
    "id": "0TTJk1odj3iN",
    "outputId": "6bef0727-f772-43e5-f36c-30498c5f2912"
   },
   "outputs": [
    {
     "data": {
      "text/plain": [
       "Index(['name', 'metric tonnes of CO2', 'date_of_information', 'ranking',\n",
       "       'region'],\n",
       "      dtype='object')"
      ]
     },
     "execution_count": 30,
     "metadata": {},
     "output_type": "execute_result"
    }
   ],
   "source": [
    "# also\n",
    "carbon.columns"
   ]
  },
  {
   "cell_type": "code",
   "execution_count": 31,
   "metadata": {
    "colab": {
     "base_uri": "https://localhost:8080/"
    },
    "id": "WVLGhvkYj3iO",
    "outputId": "0518c1c8-dfed-49ec-fe6a-8db8bca7b428"
   },
   "outputs": [
    {
     "name": "stdout",
     "output_type": "stream",
     "text": [
      "<class 'pandas.core.frame.DataFrame'>\n",
      "RangeIndex: 216 entries, 0 to 215\n",
      "Data columns (total 5 columns):\n",
      " #   Column                Non-Null Count  Dtype  \n",
      "---  ------                --------------  -----  \n",
      " 0   name                  216 non-null    object \n",
      " 1   metric_tonnes_of_CO2  216 non-null    float64\n",
      " 2   date_of_information   216 non-null    int64  \n",
      " 3   ranking               216 non-null    int64  \n",
      " 4   region                216 non-null    object \n",
      "dtypes: float64(1), int64(2), object(2)\n",
      "memory usage: 8.6+ KB\n"
     ]
    }
   ],
   "source": [
    "# Like this\n",
    "carbon.rename(columns={'metric tonnes of CO2':'metric_tonnes_of_CO2'},inplace=True)\n",
    "\n",
    "# see\n",
    "carbon.info()"
   ]
  },
  {
   "cell_type": "markdown",
   "metadata": {
    "id": "zSs8kzqyuMCs"
   },
   "source": [
    "You always make a copy:"
   ]
  },
  {
   "cell_type": "code",
   "execution_count": 32,
   "metadata": {
    "id": "_dy6SS_7uQEA"
   },
   "outputs": [],
   "source": [
    "carbon_copy=carbon.copy()"
   ]
  },
  {
   "cell_type": "markdown",
   "metadata": {
    "id": "sYdJtJSwsB9M"
   },
   "source": [
    "## Questions"
   ]
  },
  {
   "cell_type": "markdown",
   "metadata": {
    "id": "UIw8d0ozj3iO"
   },
   "source": [
    "Complete the tasks requested using **carbon_copy**:\n",
    "\n",
    "1. Keep all the columns but _Ranking_:\n",
    "    * Tip: use [drop](https://pandas.pydata.org/docs/reference/api/pandas.DataFrame.drop.html), [loc](https://pandas.pydata.org/docs/reference/api/pandas.DataFrame.loc.html), and [iloc](https://pandas.pydata.org/docs/reference/api/pandas.DataFrame.iloc.html) for the same purpose (three ways to accomplish the task).\n",
    "\n",
    "2. Find the country with the minimum CO2 emission in the world.\n",
    "\n",
    "3. Find the country with the minimum CO2 emission per Region.\n",
    "\n",
    "4. Create a new column by keeping the square root of the the original CO2  column.\n",
    "\n",
    "5. Compute the average of CO2. Then, create a new column. This new column is\n",
    "the original CO2 minus the average computed.\n",
    "\n",
    "You have changed **carbon_copy**, now save it as a file like this:"
   ]
  },
  {
   "cell_type": "code",
   "execution_count": 33,
   "metadata": {
    "id": "q8MolfV3MmML"
   },
   "outputs": [],
   "source": [
    "# 1. Keep all the columns but Ranking:\n",
    "carbon_copy = carbon_copy.loc[:, carbon_copy.columns != 'ranking']"
   ]
  },
  {
   "cell_type": "code",
   "execution_count": 34,
   "metadata": {
    "colab": {
     "base_uri": "https://localhost:8080/"
    },
    "id": "RMc_JuwLMODG",
    "outputId": "d1e68715-0633-4216-9eae-c46f280be1ab"
   },
   "outputs": [
    {
     "name": "stdout",
     "output_type": "stream",
     "text": [
      "Country with minimum CO2 emission: Niue\n"
     ]
    }
   ],
   "source": [
    "# 2. Find the country with the minimum CO2 emission in the world\n",
    "min_co2_country = carbon_copy.loc[carbon_copy['metric_tonnes_of_CO2'].idxmin(), 'name']\n",
    "print(f\"Country with minimum CO2 emission: {min_co2_country}\")"
   ]
  },
  {
   "cell_type": "code",
   "execution_count": 35,
   "metadata": {
    "colab": {
     "base_uri": "https://localhost:8080/"
    },
    "id": "SsM_OOkMMrk8",
    "outputId": "74214428-bc61-4b6f-a428-f9ac77bf07d9"
   },
   "outputs": [
    {
     "name": "stdout",
     "output_type": "stream",
     "text": [
      "\n",
      "Country with minimum CO2 emission per region:\n",
      "                                region  \\\n",
      "214                             Africa   \n",
      "213                         Antarctica   \n",
      "215              Australia and Oceania   \n",
      "212  Central America and the Caribbean   \n",
      "121                       Central Asia   \n",
      "184            East and Southeast Asia   \n",
      "175                             Europe   \n",
      "141                        Middle East   \n",
      "210                      North America   \n",
      "211                      South America   \n",
      "177                         South Asia   \n",
      "\n",
      "                                              name  metric_tonnes_of_CO2  \n",
      "214  Saint Helena, Ascension, and Tristan da Cunha                  12.0  \n",
      "213                                     Antarctica                  15.0  \n",
      "215                                           Niue                   9.0  \n",
      "212                                     Montserrat                  24.0  \n",
      "121                                        Armenia             7144000.0  \n",
      "184                                    Timor-Leste                 660.0  \n",
      "175                                  Faroe Islands                 742.0  \n",
      "141                                     Gaza Strip             3913000.0  \n",
      "210                      Saint Pierre and Miquelon                  57.0  \n",
      "211              Falkland Islands (Islas Malvinas)                  36.0  \n",
      "177                                         Bhutan                 733.0  \n"
     ]
    }
   ],
   "source": [
    "# 3. Find the country with the minimum CO2 emission per Region\n",
    "min_co2_per_region = carbon_copy.loc[carbon_copy.groupby('region')['metric_tonnes_of_CO2'].idxmin()]\n",
    "print(\"\\nCountry with minimum CO2 emission per region:\")\n",
    "print(min_co2_per_region[['region', 'name', 'metric_tonnes_of_CO2']])"
   ]
  },
  {
   "cell_type": "code",
   "execution_count": 36,
   "metadata": {
    "id": "mElnpqCTM38M"
   },
   "outputs": [],
   "source": [
    "# 4. Create a new column with the square root of the original CO2 column\n",
    "carbon_copy['sqrt_CO2'] = carbon_copy['metric_tonnes_of_CO2'].apply(lambda x: x**0.5)"
   ]
  },
  {
   "cell_type": "code",
   "execution_count": 37,
   "metadata": {
    "id": "uAejDtq9NIdb"
   },
   "outputs": [],
   "source": [
    "# 5. Compute the average of CO2 and create a new column with the difference\n",
    "avg_co2 = carbon_copy['metric_tonnes_of_CO2'].mean()\n",
    "carbon_copy['CO2_minus_avg'] = carbon_copy['metric_tonnes_of_CO2'] - avg_co2"
   ]
  },
  {
   "cell_type": "code",
   "execution_count": 38,
   "metadata": {
    "id": "_EwxC9JQOawf"
   },
   "outputs": [],
   "source": [
    "carbon_copy.to_csv(\"carbon_copy.csv\", index=False)"
   ]
  }
 ],
 "metadata": {
  "anaconda-cloud": {
   "attach-environment": true,
   "summary": "test"
  },
  "colab": {
   "provenance": []
  },
  "hide_input": false,
  "kernelspec": {
   "display_name": "Python 3 (ipykernel)",
   "language": "python",
   "name": "python3"
  },
  "language_info": {
   "codemirror_mode": {
    "name": "ipython",
    "version": 3
   },
   "file_extension": ".py",
   "mimetype": "text/x-python",
   "name": "python",
   "nbconvert_exporter": "python",
   "pygments_lexer": "ipython3",
   "version": "3.11.11"
  },
  "toc-autonumbering": false
 },
 "nbformat": 4,
 "nbformat_minor": 4
}
