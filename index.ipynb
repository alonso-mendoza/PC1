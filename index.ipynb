{
 "cells": [
  {
   "cell_type": "markdown",
   "metadata": {
    "id": "O2f27oVNj3iM"
   },
   "source": [
    "## Read the data\n",
    "\n",
    "This code will give you the data you will use for this PC:"
   ]
  },
  {
   "cell_type": "code",
   "execution_count": 1,
   "metadata": {
    "id": "u6xLc_dHIJGu"
   },
   "outputs": [],
   "source": [
    "# read web table into pandas DF\n",
    "import pandas as pd\n",
    "\n",
    "co2Link='https://docs.google.com/spreadsheets/d/e/2PACX-1vRXjfxeKHQBBCh_oHP-D6RIHEX4eduLjydHb6ZGsU4jo0IK0KKQSoYX_X1FGssC_9hnqCgjKN0K4AVf/pub?gid=775098192&single=true&output=csv'\n",
    "carbon=pd.read_csv(co2Link)\n"
   ]
  },
  {
   "cell_type": "code",
   "execution_count": 2,
   "metadata": {
    "colab": {
     "base_uri": "https://localhost:8080/",
     "height": 423
    },
    "id": "dAmQQMGvj3iN",
    "outputId": "43abff41-10fc-4bae-e298-30dd077336bc"
   },
   "outputs": [
    {
     "data": {
      "text/html": [
       "<div>\n",
       "<style scoped>\n",
       "    .dataframe tbody tr th:only-of-type {\n",
       "        vertical-align: middle;\n",
       "    }\n",
       "\n",
       "    .dataframe tbody tr th {\n",
       "        vertical-align: top;\n",
       "    }\n",
       "\n",
       "    .dataframe thead th {\n",
       "        text-align: right;\n",
       "    }\n",
       "</style>\n",
       "<table border=\"1\" class=\"dataframe\">\n",
       "  <thead>\n",
       "    <tr style=\"text-align: right;\">\n",
       "      <th></th>\n",
       "      <th>name</th>\n",
       "      <th>metric tonnes of CO2</th>\n",
       "      <th>date_of_information</th>\n",
       "      <th>ranking</th>\n",
       "      <th>region</th>\n",
       "    </tr>\n",
       "  </thead>\n",
       "  <tbody>\n",
       "    <tr>\n",
       "      <th>0</th>\n",
       "      <td>China</td>\n",
       "      <td>1.219600e+10</td>\n",
       "      <td>2023</td>\n",
       "      <td>1</td>\n",
       "      <td>East and Southeast Asia</td>\n",
       "    </tr>\n",
       "    <tr>\n",
       "      <th>1</th>\n",
       "      <td>United States</td>\n",
       "      <td>4.795000e+09</td>\n",
       "      <td>2023</td>\n",
       "      <td>2</td>\n",
       "      <td>North America</td>\n",
       "    </tr>\n",
       "    <tr>\n",
       "      <th>2</th>\n",
       "      <td>India</td>\n",
       "      <td>2.821000e+09</td>\n",
       "      <td>2023</td>\n",
       "      <td>3</td>\n",
       "      <td>South Asia</td>\n",
       "    </tr>\n",
       "    <tr>\n",
       "      <th>3</th>\n",
       "      <td>Russia</td>\n",
       "      <td>1.844000e+09</td>\n",
       "      <td>2023</td>\n",
       "      <td>4</td>\n",
       "      <td>Central Asia</td>\n",
       "    </tr>\n",
       "    <tr>\n",
       "      <th>4</th>\n",
       "      <td>Japan</td>\n",
       "      <td>9.602300e+08</td>\n",
       "      <td>2023</td>\n",
       "      <td>5</td>\n",
       "      <td>East and Southeast Asia</td>\n",
       "    </tr>\n",
       "    <tr>\n",
       "      <th>...</th>\n",
       "      <td>...</td>\n",
       "      <td>...</td>\n",
       "      <td>...</td>\n",
       "      <td>...</td>\n",
       "      <td>...</td>\n",
       "    </tr>\n",
       "    <tr>\n",
       "      <th>211</th>\n",
       "      <td>Falkland Islands (Islas Malvinas)</td>\n",
       "      <td>3.600000e+01</td>\n",
       "      <td>2023</td>\n",
       "      <td>212</td>\n",
       "      <td>South America</td>\n",
       "    </tr>\n",
       "    <tr>\n",
       "      <th>212</th>\n",
       "      <td>Montserrat</td>\n",
       "      <td>2.400000e+01</td>\n",
       "      <td>2023</td>\n",
       "      <td>213</td>\n",
       "      <td>Central America and the Caribbean</td>\n",
       "    </tr>\n",
       "    <tr>\n",
       "      <th>213</th>\n",
       "      <td>Antarctica</td>\n",
       "      <td>1.500000e+01</td>\n",
       "      <td>2023</td>\n",
       "      <td>214</td>\n",
       "      <td>Antarctica</td>\n",
       "    </tr>\n",
       "    <tr>\n",
       "      <th>214</th>\n",
       "      <td>Saint Helena, Ascension, and Tristan da Cunha</td>\n",
       "      <td>1.200000e+01</td>\n",
       "      <td>2023</td>\n",
       "      <td>215</td>\n",
       "      <td>Africa</td>\n",
       "    </tr>\n",
       "    <tr>\n",
       "      <th>215</th>\n",
       "      <td>Niue</td>\n",
       "      <td>9.000000e+00</td>\n",
       "      <td>2023</td>\n",
       "      <td>216</td>\n",
       "      <td>Australia and Oceania</td>\n",
       "    </tr>\n",
       "  </tbody>\n",
       "</table>\n",
       "<p>216 rows × 5 columns</p>\n",
       "</div>"
      ],
      "text/plain": [
       "                                              name  metric tonnes of CO2  \\\n",
       "0                                            China          1.219600e+10   \n",
       "1                                    United States          4.795000e+09   \n",
       "2                                            India          2.821000e+09   \n",
       "3                                           Russia          1.844000e+09   \n",
       "4                                            Japan          9.602300e+08   \n",
       "..                                             ...                   ...   \n",
       "211              Falkland Islands (Islas Malvinas)          3.600000e+01   \n",
       "212                                     Montserrat          2.400000e+01   \n",
       "213                                     Antarctica          1.500000e+01   \n",
       "214  Saint Helena, Ascension, and Tristan da Cunha          1.200000e+01   \n",
       "215                                           Niue          9.000000e+00   \n",
       "\n",
       "     date_of_information  ranking                             region  \n",
       "0                   2023        1            East and Southeast Asia  \n",
       "1                   2023        2                      North America  \n",
       "2                   2023        3                         South Asia  \n",
       "3                   2023        4                       Central Asia  \n",
       "4                   2023        5            East and Southeast Asia  \n",
       "..                   ...      ...                                ...  \n",
       "211                 2023      212                      South America  \n",
       "212                 2023      213  Central America and the Caribbean  \n",
       "213                 2023      214                         Antarctica  \n",
       "214                 2023      215                             Africa  \n",
       "215                 2023      216              Australia and Oceania  \n",
       "\n",
       "[216 rows x 5 columns]"
      ]
     },
     "execution_count": 2,
     "metadata": {},
     "output_type": "execute_result"
    }
   ],
   "source": [
    "# here it is:\n",
    "carbon"
   ]
  },
  {
   "cell_type": "markdown",
   "metadata": {
    "id": "v6HBjYfNrsLS"
   },
   "source": [
    "As you see, some columns have space, which should be deleted:"
   ]
  },
  {
   "cell_type": "code",
   "execution_count": 3,
   "metadata": {
    "colab": {
     "base_uri": "https://localhost:8080/"
    },
    "id": "0TTJk1odj3iN",
    "outputId": "6bef0727-f772-43e5-f36c-30498c5f2912"
   },
   "outputs": [
    {
     "data": {
      "text/plain": [
       "Index(['name', 'metric tonnes of CO2', 'date_of_information', 'ranking',\n",
       "       'region'],\n",
       "      dtype='object')"
      ]
     },
     "execution_count": 3,
     "metadata": {},
     "output_type": "execute_result"
    }
   ],
   "source": [
    "# also\n",
    "carbon.columns"
   ]
  },
  {
   "cell_type": "code",
   "execution_count": 4,
   "metadata": {
    "colab": {
     "base_uri": "https://localhost:8080/"
    },
    "id": "WVLGhvkYj3iO",
    "outputId": "0518c1c8-dfed-49ec-fe6a-8db8bca7b428"
   },
   "outputs": [
    {
     "name": "stdout",
     "output_type": "stream",
     "text": [
      "<class 'pandas.core.frame.DataFrame'>\n",
      "RangeIndex: 216 entries, 0 to 215\n",
      "Data columns (total 5 columns):\n",
      " #   Column                Non-Null Count  Dtype  \n",
      "---  ------                --------------  -----  \n",
      " 0   name                  216 non-null    object \n",
      " 1   metric_tonnes_of_CO2  216 non-null    float64\n",
      " 2   date_of_information   216 non-null    int64  \n",
      " 3   ranking               216 non-null    int64  \n",
      " 4   region                216 non-null    object \n",
      "dtypes: float64(1), int64(2), object(2)\n",
      "memory usage: 8.6+ KB\n"
     ]
    }
   ],
   "source": [
    "# Like this\n",
    "carbon.rename(columns={'metric tonnes of CO2':'metric_tonnes_of_CO2'},inplace=True)\n",
    "\n",
    "# see\n",
    "carbon.info()"
   ]
  },
  {
   "cell_type": "markdown",
   "metadata": {
    "id": "zSs8kzqyuMCs"
   },
   "source": [
    "You always make a copy:"
   ]
  },
  {
   "cell_type": "code",
   "execution_count": 5,
   "metadata": {
    "id": "_dy6SS_7uQEA"
   },
   "outputs": [],
   "source": [
    "carbon_copy=carbon.copy()"
   ]
  },
  {
   "cell_type": "markdown",
   "metadata": {
    "id": "sYdJtJSwsB9M"
   },
   "source": [
    "## Questions"
   ]
  },
  {
   "cell_type": "markdown",
   "metadata": {
    "id": "UIw8d0ozj3iO"
   },
   "source": [
    "Complete the tasks requested using **carbon_copy**:\n",
    "\n",
    "1. Keep all the columns but _Ranking_:\n",
    "    * Tip: use [drop](https://pandas.pydata.org/docs/reference/api/pandas.DataFrame.drop.html), [loc](https://pandas.pydata.org/docs/reference/api/pandas.DataFrame.loc.html), and [iloc](https://pandas.pydata.org/docs/reference/api/pandas.DataFrame.iloc.html) for the same purpose (three ways to accomplish the task).\n",
    "\n",
    "2. Find the country with the minimum CO2 emission in the world.\n",
    "\n",
    "3. Find the country with the minimum CO2 emission per Region.\n",
    "\n",
    "4. Create a new column by keeping the square root of the the original CO2  column.\n",
    "\n",
    "5. Compute the average of CO2. Then, create a new column. This new column is\n",
    "the original CO2 minus the average computed.\n",
    "\n",
    "You have changed **carbon_copy**, now save it as a file like this:"
   ]
  },
  {
   "cell_type": "code",
   "execution_count": 6,
   "metadata": {
    "id": "q8MolfV3MmML"
   },
   "outputs": [],
   "source": [
    "# 1. Keep all the columns but Ranking:\n",
    "carbon_copy = carbon_copy.loc[:, carbon_copy.columns != 'ranking']"
   ]
  },
  {
   "cell_type": "code",
   "execution_count": 7,
   "metadata": {
    "colab": {
     "base_uri": "https://localhost:8080/"
    },
    "id": "RMc_JuwLMODG",
    "outputId": "d1e68715-0633-4216-9eae-c46f280be1ab"
   },
   "outputs": [
    {
     "name": "stdout",
     "output_type": "stream",
     "text": [
      "Country with minimum CO2 emission: Niue\n"
     ]
    }
   ],
   "source": [
    "# 2. Find the country with the minimum CO2 emission in the world\n",
    "min_co2_country = carbon_copy.loc[carbon_copy['metric_tonnes_of_CO2'].idxmin(), 'name']\n",
    "print(f\"Country with minimum CO2 emission: {min_co2_country}\")"
   ]
  },
  {
   "cell_type": "code",
   "execution_count": 8,
   "metadata": {
    "colab": {
     "base_uri": "https://localhost:8080/"
    },
    "id": "SsM_OOkMMrk8",
    "outputId": "74214428-bc61-4b6f-a428-f9ac77bf07d9"
   },
   "outputs": [
    {
     "name": "stdout",
     "output_type": "stream",
     "text": [
      "\n",
      "Country with minimum CO2 emission per region:\n",
      "                                region  \\\n",
      "214                             Africa   \n",
      "213                         Antarctica   \n",
      "215              Australia and Oceania   \n",
      "212  Central America and the Caribbean   \n",
      "121                       Central Asia   \n",
      "184            East and Southeast Asia   \n",
      "175                             Europe   \n",
      "141                        Middle East   \n",
      "210                      North America   \n",
      "211                      South America   \n",
      "177                         South Asia   \n",
      "\n",
      "                                              name  metric_tonnes_of_CO2  \n",
      "214  Saint Helena, Ascension, and Tristan da Cunha                  12.0  \n",
      "213                                     Antarctica                  15.0  \n",
      "215                                           Niue                   9.0  \n",
      "212                                     Montserrat                  24.0  \n",
      "121                                        Armenia             7144000.0  \n",
      "184                                    Timor-Leste                 660.0  \n",
      "175                                  Faroe Islands                 742.0  \n",
      "141                                     Gaza Strip             3913000.0  \n",
      "210                      Saint Pierre and Miquelon                  57.0  \n",
      "211              Falkland Islands (Islas Malvinas)                  36.0  \n",
      "177                                         Bhutan                 733.0  \n"
     ]
    }
   ],
   "source": [
    "# 3. Find the country with the minimum CO2 emission per Region\n",
    "min_co2_per_region = carbon_copy.loc[carbon_copy.groupby('region')['metric_tonnes_of_CO2'].idxmin()]\n",
    "print(\"\\nCountry with minimum CO2 emission per region:\")\n",
    "print(min_co2_per_region[['region', 'name', 'metric_tonnes_of_CO2']])"
   ]
  },
  {
   "cell_type": "code",
   "execution_count": 9,
   "metadata": {
    "id": "mElnpqCTM38M"
   },
   "outputs": [],
   "source": [
    "# 4. Create a new column with the square root of the original CO2 column\n",
    "carbon_copy['sqrt_CO2'] = carbon_copy['metric_tonnes_of_CO2'].apply(lambda x: x**0.5)"
   ]
  },
  {
   "cell_type": "code",
   "execution_count": 10,
   "metadata": {
    "id": "uAejDtq9NIdb"
   },
   "outputs": [],
   "source": [
    "# 5. Compute the average of CO2 and create a new column with the difference\n",
    "avg_co2 = carbon_copy['metric_tonnes_of_CO2'].mean()\n",
    "carbon_copy['CO2_minus_avg'] = carbon_copy['metric_tonnes_of_CO2'] - avg_co2"
   ]
  },
  {
   "cell_type": "code",
   "execution_count": 12,
   "metadata": {
    "id": "_EwxC9JQOawf"
   },
   "outputs": [],
   "source": [
    "carbon_copy.to_csv(\"carbon_copy.csv\", index=False)"
   ]
  },
  {
   "cell_type": "code",
   "execution_count": null,
   "metadata": {},
   "outputs": [],
   "source": []
  },
  {
   "cell_type": "code",
   "execution_count": null,
   "metadata": {},
   "outputs": [],
   "source": []
  },
  {
   "cell_type": "code",
   "execution_count": null,
   "metadata": {},
   "outputs": [],
   "source": []
  }
 ],
 "metadata": {
  "anaconda-cloud": {
   "attach-environment": true,
   "summary": "test"
  },
  "colab": {
   "provenance": []
  },
  "hide_input": false,
  "kernelspec": {
   "display_name": "Python 3 (ipykernel)",
   "language": "python",
   "name": "python3"
  },
  "language_info": {
   "codemirror_mode": {
    "name": "ipython",
    "version": 3
   },
   "file_extension": ".py",
   "mimetype": "text/x-python",
   "name": "python",
   "nbconvert_exporter": "python",
   "pygments_lexer": "ipython3",
   "version": "3.11.11"
  },
  "toc-autonumbering": false
 },
 "nbformat": 4,
 "nbformat_minor": 4
}
